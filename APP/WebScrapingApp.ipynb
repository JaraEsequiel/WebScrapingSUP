{
 "cells": [
  {
   "cell_type": "code",
   "execution_count": 34,
   "metadata": {},
   "outputs": [],
   "source": [
    "import pandas as pd\n",
    "from selenium import webdriver # Navegador\n",
    "from selenium.webdriver.common.by import By #Para seleccionar elementos html\n",
    "from selenium.webdriver.common.keys import Keys # Para manejar entrada de teclada\n",
    "from selenium.common.exceptions import NoSuchElementException # En caso de que no se encuentre el elemento.\n",
    "import time #Libreria para que el programa quede en stand by durante algunos segundos"
   ]
  },
  {
   "cell_type": "code",
   "execution_count": 35,
   "metadata": {},
   "outputs": [
    {
     "name": "stderr",
     "output_type": "stream",
     "text": [
      "C:\\Users\\esequ\\AppData\\Local\\Temp\\ipykernel_5856\\1274925799.py:2: DeprecationWarning: executable_path has been deprecated, please pass in a Service object\n",
      "  driver = webdriver.Chrome(executable_path= 'src/chromedriver.exe')\n"
     ]
    }
   ],
   "source": [
    "# Definimos el navegador a usar\n",
    "driver = webdriver.Chrome(executable_path= 'src/chromedriver.exe')\n",
    "\n",
    "#Definimos la url a trabajar\n",
    "url = 'https://www.imdb.com/'"
   ]
  },
  {
   "cell_type": "code",
   "execution_count": 36,
   "metadata": {},
   "outputs": [],
   "source": [
    "try:  # Ejecutamos:\n",
    "    driver.get(url)  # Redireccionamos el navegador\n",
    "    # Si el texto se encuentra en el codigo, sigue la ejecucion\n",
    "    assert 'IMDb: Puntuaciones, reseñas y dónde ver las mejores películas y programas de televisión' in driver.title #Driver.title hace referencia al tag title en el html\n",
    "except AssertionError:  # Si obtenemos un error se imprime un msj de error\n",
    "    print('No se ah podido conectar con la pagina')\n"
   ]
  },
  {
   "cell_type": "code",
   "execution_count": 37,
   "metadata": {},
   "outputs": [],
   "source": [
    "# Buscamos el botón menú.\n",
    "elemento = driver.find_element(By.ID, 'imdbHeader-navDrawerOpen') # Buscamos un elemnto por ID\n",
    "# Hacemos click en el elemento.\n",
    "elemento.click()\n",
    "time.sleep(2) # esperamos dos segundos para que la pagina cargue bien"
   ]
  },
  {
   "cell_type": "code",
   "execution_count": 38,
   "metadata": {},
   "outputs": [],
   "source": [
    "# Buscamos el enlace a las peliculas mas populares\n",
    "elemento = driver.find_element(By.LINK_TEXT, 'Películas más populares') #Obtenemos el elemnto que nos llevara a las peliculas mas populares\n",
    "#Hacemos click en el elemento\n",
    "elemento.click()"
   ]
  },
  {
   "cell_type": "code",
   "execution_count": 39,
   "metadata": {},
   "outputs": [],
   "source": [
    "# Obtener elementos de la tabla de peliculas.\n",
    "\n",
    "#Obtenemos todos las etiquetas a dentro de la segunda columna de cada fila, usar find_elements con s para obtener mas de un elemento\n",
    "lista_peliculas = driver.find_elements(By.XPATH, '//*[@id=\"main\"]/div/span/div/div/div[3]/table/tbody/tr/td[2]/a') \n",
    "\n",
    "#Creamos una lista para guardar los enlaces\n",
    "links_peliculas = []\n",
    "\n",
    "for pelicula in lista_peliculas: #Por cada elemento a dentro de movies_list\n",
    "    links_peliculas.append(pelicula.get_attribute('href')) #Agregamos a la lista movies_links la url"
   ]
  },
  {
   "cell_type": "code",
   "execution_count": 40,
   "metadata": {},
   "outputs": [],
   "source": [
    "nombre = [] #Creamos una lista para el nombre de la pelicula\n",
    "anio = [] #Creamos una lista para el año de la pelicula\n",
    "rating = [] #Creamos una lista para el rating de la pelicula\n",
    "sipnosis = [] #Creamos una lista para la sipnosis de la pelicula\n",
    "generos = [] #Creamos una lista para los generos de la pelicula\n",
    "director = [] #Lista para el director de la pelicula\n",
    "\n",
    "for link in links_peliculas:\n",
    "\n",
    "    driver.get(link)\n",
    "\n",
    "    #Utilizamos try y except para comprobar si el elemento existe en la pagina\n",
    "    #Si el elemento existe, se guarda su contenido\n",
    "    #Si el elemento no existe, se ingresa un campo vacio\n",
    "\n",
    "    try:\n",
    "        nombre.append(driver.find_element(By.XPATH, '//*[@id=\"__next\"]/main/div/section[1]/section/div[3]/section/section/div[2]/div[1]/h1').text)\n",
    "    except NoSuchElementException:\n",
    "        nombre.append('')\n",
    "\n",
    "    try:\n",
    "        anio.append(driver.find_element(By.XPATH, '//*[@id=\"__next\"]/main/div/section[1]/section/div[3]/section/section/div[2]/div[1]/div/ul/li[1]/a').text)\n",
    "    except NoSuchElementException:\n",
    "        anio.append('')\n",
    "\n",
    "    try:\n",
    "        rating.append(driver.find_element(By.XPATH, '//*[@id=\"__next\"]/main/div/section[1]/section/div[3]/section/section/div[2]/div[2]/div/div[1]/a/div/div/div[2]/div[1]/span[1]').text)\n",
    "    except NoSuchElementException:\n",
    "        rating.append('')\n",
    "\n",
    "    try:\n",
    "        sipnosis.append(driver.find_element(By.XPATH, '//*[@id=\"__next\"]/main/div/section[1]/section/div[3]/section/section/div[3]/div[2]/div[1]/div[1]/p/span[2]').text)\n",
    "    except NoSuchElementException:\n",
    "        sipnosis.append('')\n",
    "\n",
    "    try:\n",
    "        #Creamos una lista para todos los generos de la pelicula\n",
    "        lista_generos = driver.find_elements(By.XPATH, '//*[@id=\"__next\"]/main/div/section[1]/section/div[3]/section/section/div[3]/div[2]/div[1]/div[1]/div/div[2]/a/span')\n",
    "        # Por cada elemento en la lista, generamos un indice para el elemento y el susodicho elemento\n",
    "        for indice, item in enumerate(lista_generos): # Utilizamos enumerate para obtener el indice y el elemento\n",
    "            lista_generos[indice] = item.text # Ingresamos el texto del elemento en la posicion de memoria donde se encuentra\n",
    "        # Ingresamos los generos\n",
    "        generos.append(lista_generos)\n",
    "\n",
    "    except NoSuchElementException:\n",
    "        generos.append('')\n",
    "\n",
    "    try:\n",
    "        director.append(driver.find_element(By.XPATH, '//*[@id=\"__next\"]/main/div/section[1]/div/section/div/div[1]/section[4]/ul/li[1]/div/ul/li/a').text)\n",
    "    except NoSuchElementException:\n",
    "        director.append('')"
   ]
  },
  {
   "cell_type": "code",
   "execution_count": 41,
   "metadata": {},
   "outputs": [],
   "source": [
    "#Creamos el dataframe con la informacion que conseguimos\n",
    "movies_df = pd.DataFrame({'name': nombre, 'year': anio, 'rating': rating, 'sipnosis': sipnosis, 'generos': generos, 'director': director})"
   ]
  },
  {
   "cell_type": "code",
   "execution_count": 42,
   "metadata": {},
   "outputs": [],
   "source": [
    "#Exportamos un csv\n",
    "movies_df.to_csv('data/movie_dataset.csv', index= False)"
   ]
  }
 ],
 "metadata": {
  "kernelspec": {
   "display_name": "env",
   "language": "python",
   "name": "python3"
  },
  "language_info": {
   "codemirror_mode": {
    "name": "ipython",
    "version": 3
   },
   "file_extension": ".py",
   "mimetype": "text/x-python",
   "name": "python",
   "nbconvert_exporter": "python",
   "pygments_lexer": "ipython3",
   "version": "3.11.1"
  },
  "orig_nbformat": 4,
  "vscode": {
   "interpreter": {
    "hash": "f61043f950c0c6ec3303025cb9201a05810ad3199efa7299dc0d33827609ea53"
   }
  }
 },
 "nbformat": 4,
 "nbformat_minor": 2
}
